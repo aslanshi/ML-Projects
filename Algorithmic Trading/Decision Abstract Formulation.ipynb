{
 "cells": [
  {
   "cell_type": "markdown",
   "metadata": {},
   "source": [
    "**Data:**\n",
    "\n",
    "- $S$: set of top 10 stocks.\n",
    "- $U$: maximum number of stocks we want to invest in.\n",
    "- $L$: minimum number of stocks we want to invest in.\n",
    "- $R$: indicator of risk-aversion.\n",
    "- $\\epsilon$: minimum weight we invest in each stock.\n",
    "- $\\mu_s$: historical average daily return of stock $s$. (up to yesterday)\n",
    "- $\\sigma_s$: historical standard deviation of stock $s$. (up to yesterday)\n",
    "\n",
    "**Decision variables:**\n",
    "\n",
    "- $x_s$: proportion of money we invest in each of the stock $s$, aka weight for stock $s$. (Continuous)\n",
    "\n",
    "**Auxiliary Decision variables:**\n",
    "\n",
    "- $v$: indicator of portfolio vaiance. (Continuous)\n",
    "- $z_s$: whether to invest in stock $s$. (Binary) \n",
    "\n",
    "**Objective and constraints:**\n",
    "\n",
    "$$\\begin{aligned}\n",
    "\\text{Maximize:} && (\\sum_{s \\in S} \\mu_sx_s) - Rv \\\\\n",
    "\\text{subject to:} \\\\\n",
    "&& \\sum_{s \\in S} x_s  = 1\\\\\n",
    "&& z_s\\epsilon \\le x_s  \\le z_s && \\text{ for each stock $s \\in S$}\\\\\n",
    "&& L \\le \\sum_{s \\in S} z_s  \\le U\\\\\n",
    "&& \\sum_{s \\in S} \\sigma_s^2x_s^2  = v\\\\\n",
    "&& z_s  \\in \\{0,1\\}\\\\\n",
    "&& x_s,v  \\ge 0\\\\\n",
    "\\end{aligned}$$"
   ]
  }
 ],
 "metadata": {
  "kernelspec": {
   "display_name": "Python 3",
   "language": "python",
   "name": "python3"
  },
  "language_info": {
   "codemirror_mode": {
    "name": "ipython",
    "version": 3
   },
   "file_extension": ".py",
   "mimetype": "text/x-python",
   "name": "python",
   "nbconvert_exporter": "python",
   "pygments_lexer": "ipython3",
   "version": "3.7.4"
  }
 },
 "nbformat": 4,
 "nbformat_minor": 2
}
