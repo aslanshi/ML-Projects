{
 "cells": [
  {
   "cell_type": "markdown",
   "metadata": {},
   "source": [
    "## Overview:\n",
    "\n",
    "This notebook is the first attempt of optimizing classroom assignment based on 20191 scheduling. The objective is to maximize room efficiency, which is defined as: $$\\frac{\\text{# of student limit}}{\\text{room capacity}}$$ \n",
    "\n",
    "Later we will add happiness factors according to students and professors' needs.\n",
    "\n",
    "Created on: 5.1.2020\n",
    "\n",
    "Created by: Nanchun Shi"
   ]
  },
  {
   "cell_type": "markdown",
   "metadata": {},
   "source": [
    "## I. Data preprocessing"
   ]
  },
  {
   "cell_type": "code",
   "execution_count": 10,
   "metadata": {},
   "outputs": [],
   "source": [
    "import pandas as pd\n",
    "import numpy as np"
   ]
  },
  {
   "cell_type": "code",
   "execution_count": 11,
   "metadata": {},
   "outputs": [],
   "source": [
    "## read in data\n",
    "\n",
    "df = pd.read_csv('data/schedule_2015_to_2019.csv')"
   ]
  },
  {
   "cell_type": "code",
   "execution_count": 12,
   "metadata": {},
   "outputs": [
    {
     "data": {
      "text/html": [
       "<div>\n",
       "<style scoped>\n",
       "    .dataframe tbody tr th:only-of-type {\n",
       "        vertical-align: middle;\n",
       "    }\n",
       "\n",
       "    .dataframe tbody tr th {\n",
       "        vertical-align: top;\n",
       "    }\n",
       "\n",
       "    .dataframe thead th {\n",
       "        text-align: right;\n",
       "    }\n",
       "</style>\n",
       "<table border=\"1\" class=\"dataframe\">\n",
       "  <thead>\n",
       "    <tr style=\"text-align: right;\">\n",
       "      <th></th>\n",
       "      <th>cancelled</th>\n",
       "      <th>date_of_cancellation</th>\n",
       "      <th>term</th>\n",
       "      <th>course</th>\n",
       "      <th>section</th>\n",
       "      <th>title</th>\n",
       "      <th>mode</th>\n",
       "      <th>units</th>\n",
       "      <th>level</th>\n",
       "      <th>department</th>\n",
       "      <th>...</th>\n",
       "      <th>second_instructor_uid</th>\n",
       "      <th>second_room</th>\n",
       "      <th>seats_offered</th>\n",
       "      <th>reg_count</th>\n",
       "      <th>adj_reg</th>\n",
       "      <th>wait_count</th>\n",
       "      <th>total_tuition_units</th>\n",
       "      <th>classroom_capacity</th>\n",
       "      <th>cap_remaining_seats</th>\n",
       "      <th>classroom_remaining_seats</th>\n",
       "    </tr>\n",
       "  </thead>\n",
       "  <tbody>\n",
       "    <tr>\n",
       "      <td>0</td>\n",
       "      <td>True</td>\n",
       "      <td>NaN</td>\n",
       "      <td>20153</td>\n",
       "      <td>NaN</td>\n",
       "      <td>14025</td>\n",
       "      <td>External Financial Reporting Issues</td>\n",
       "      <td>C</td>\n",
       "      <td>4.0</td>\n",
       "      <td>NaN</td>\n",
       "      <td>NaN</td>\n",
       "      <td>...</td>\n",
       "      <td>NaN</td>\n",
       "      <td>NaN</td>\n",
       "      <td>42</td>\n",
       "      <td>24</td>\n",
       "      <td>NaN</td>\n",
       "      <td>NaN</td>\n",
       "      <td>96.0</td>\n",
       "      <td>46.0</td>\n",
       "      <td>18.0</td>\n",
       "      <td>22.0</td>\n",
       "    </tr>\n",
       "    <tr>\n",
       "      <td>1</td>\n",
       "      <td>False</td>\n",
       "      <td>NaN</td>\n",
       "      <td>20153</td>\n",
       "      <td>ACCT-370</td>\n",
       "      <td>14025</td>\n",
       "      <td>External Financial Reporting Issues</td>\n",
       "      <td>C</td>\n",
       "      <td>4.0</td>\n",
       "      <td>NaN</td>\n",
       "      <td>ACCT</td>\n",
       "      <td>...</td>\n",
       "      <td>NaN</td>\n",
       "      <td>NaN</td>\n",
       "      <td>42</td>\n",
       "      <td>24</td>\n",
       "      <td>NaN</td>\n",
       "      <td>NaN</td>\n",
       "      <td>96.0</td>\n",
       "      <td>46.0</td>\n",
       "      <td>18.0</td>\n",
       "      <td>22.0</td>\n",
       "    </tr>\n",
       "    <tr>\n",
       "      <td>2</td>\n",
       "      <td>True</td>\n",
       "      <td>NaN</td>\n",
       "      <td>20153</td>\n",
       "      <td>NaN</td>\n",
       "      <td>14026</td>\n",
       "      <td>External Financial Reporting Issues</td>\n",
       "      <td>C</td>\n",
       "      <td>4.0</td>\n",
       "      <td>NaN</td>\n",
       "      <td>NaN</td>\n",
       "      <td>...</td>\n",
       "      <td>NaN</td>\n",
       "      <td>NaN</td>\n",
       "      <td>42</td>\n",
       "      <td>40</td>\n",
       "      <td>NaN</td>\n",
       "      <td>NaN</td>\n",
       "      <td>160.0</td>\n",
       "      <td>46.0</td>\n",
       "      <td>2.0</td>\n",
       "      <td>6.0</td>\n",
       "    </tr>\n",
       "    <tr>\n",
       "      <td>3</td>\n",
       "      <td>False</td>\n",
       "      <td>NaN</td>\n",
       "      <td>20153</td>\n",
       "      <td>ACCT-370</td>\n",
       "      <td>14026</td>\n",
       "      <td>External Financial Reporting Issues</td>\n",
       "      <td>C</td>\n",
       "      <td>4.0</td>\n",
       "      <td>NaN</td>\n",
       "      <td>ACCT</td>\n",
       "      <td>...</td>\n",
       "      <td>NaN</td>\n",
       "      <td>NaN</td>\n",
       "      <td>42</td>\n",
       "      <td>40</td>\n",
       "      <td>NaN</td>\n",
       "      <td>NaN</td>\n",
       "      <td>160.0</td>\n",
       "      <td>46.0</td>\n",
       "      <td>2.0</td>\n",
       "      <td>6.0</td>\n",
       "    </tr>\n",
       "    <tr>\n",
       "      <td>4</td>\n",
       "      <td>True</td>\n",
       "      <td>NaN</td>\n",
       "      <td>20153</td>\n",
       "      <td>NaN</td>\n",
       "      <td>14027</td>\n",
       "      <td>External Financial Reporting Issues</td>\n",
       "      <td>C</td>\n",
       "      <td>4.0</td>\n",
       "      <td>NaN</td>\n",
       "      <td>NaN</td>\n",
       "      <td>...</td>\n",
       "      <td>NaN</td>\n",
       "      <td>NaN</td>\n",
       "      <td>42</td>\n",
       "      <td>42</td>\n",
       "      <td>NaN</td>\n",
       "      <td>NaN</td>\n",
       "      <td>168.0</td>\n",
       "      <td>46.0</td>\n",
       "      <td>0.0</td>\n",
       "      <td>4.0</td>\n",
       "    </tr>\n",
       "  </tbody>\n",
       "</table>\n",
       "<p>5 rows × 38 columns</p>\n",
       "</div>"
      ],
      "text/plain": [
       "   cancelled date_of_cancellation   term    course section  \\\n",
       "0       True                  NaN  20153       NaN   14025   \n",
       "1      False                  NaN  20153  ACCT-370   14025   \n",
       "2       True                  NaN  20153       NaN   14026   \n",
       "3      False                  NaN  20153  ACCT-370   14026   \n",
       "4       True                  NaN  20153       NaN   14027   \n",
       "\n",
       "                                 title mode  units level department  ...  \\\n",
       "0  External Financial Reporting Issues    C    4.0   NaN        NaN  ...   \n",
       "1  External Financial Reporting Issues    C    4.0   NaN       ACCT  ...   \n",
       "2  External Financial Reporting Issues    C    4.0   NaN        NaN  ...   \n",
       "3  External Financial Reporting Issues    C    4.0   NaN       ACCT  ...   \n",
       "4  External Financial Reporting Issues    C    4.0   NaN        NaN  ...   \n",
       "\n",
       "  second_instructor_uid  second_room seats_offered reg_count adj_reg  \\\n",
       "0                   NaN          NaN            42        24     NaN   \n",
       "1                   NaN          NaN            42        24     NaN   \n",
       "2                   NaN          NaN            42        40     NaN   \n",
       "3                   NaN          NaN            42        40     NaN   \n",
       "4                   NaN          NaN            42        42     NaN   \n",
       "\n",
       "  wait_count total_tuition_units classroom_capacity cap_remaining_seats  \\\n",
       "0        NaN                96.0               46.0                18.0   \n",
       "1        NaN                96.0               46.0                18.0   \n",
       "2        NaN               160.0               46.0                 2.0   \n",
       "3        NaN               160.0               46.0                 2.0   \n",
       "4        NaN               168.0               46.0                 0.0   \n",
       "\n",
       "  classroom_remaining_seats  \n",
       "0                      22.0  \n",
       "1                      22.0  \n",
       "2                       6.0  \n",
       "3                       6.0  \n",
       "4                       4.0  \n",
       "\n",
       "[5 rows x 38 columns]"
      ]
     },
     "execution_count": 12,
     "metadata": {},
     "output_type": "execute_result"
    }
   ],
   "source": [
    "df.head()"
   ]
  },
  {
   "cell_type": "code",
   "execution_count": 13,
   "metadata": {},
   "outputs": [
    {
     "data": {
      "text/plain": [
       "(7441, 38)"
      ]
     },
     "execution_count": 13,
     "metadata": {},
     "output_type": "execute_result"
    }
   ],
   "source": [
    "df.shape"
   ]
  },
  {
   "cell_type": "code",
   "execution_count": 14,
   "metadata": {},
   "outputs": [],
   "source": [
    "## select 20191 (Spring) term & not cancelled\n",
    "\n",
    "df = df[(df.term == 20191) & (df.cancelled == 0)]"
   ]
  },
  {
   "cell_type": "code",
   "execution_count": 15,
   "metadata": {},
   "outputs": [
    {
     "data": {
      "text/plain": [
       "(582, 38)"
      ]
     },
     "execution_count": 15,
     "metadata": {},
     "output_type": "execute_result"
    }
   ],
   "source": [
    "df.shape"
   ]
  },
  {
   "cell_type": "code",
   "execution_count": 16,
   "metadata": {},
   "outputs": [
    {
     "data": {
      "text/plain": [
       "581"
      ]
     },
     "execution_count": 16,
     "metadata": {},
     "output_type": "execute_result"
    }
   ],
   "source": [
    "## check how many course have second rooms\n",
    "\n",
    "df.second_room.isna().sum()"
   ]
  },
  {
   "cell_type": "code",
   "execution_count": 17,
   "metadata": {},
   "outputs": [],
   "source": [
    "## since it's rate, drop it\n",
    "\n",
    "df = df[df.second_room.isna()]"
   ]
  },
  {
   "cell_type": "code",
   "execution_count": 18,
   "metadata": {
    "scrolled": false
   },
   "outputs": [],
   "source": [
    "## select necessary columns\n",
    "\n",
    "df = df.iloc[:,np.r_[3:6,9:11,18:21,23,30,35]]"
   ]
  },
  {
   "cell_type": "code",
   "execution_count": 19,
   "metadata": {},
   "outputs": [
    {
     "data": {
      "text/plain": [
       "course                 0\n",
       "section                0\n",
       "title                  0\n",
       "department             0\n",
       "type                   0\n",
       "first_days             0\n",
       "first_begin_time       0\n",
       "first_end_time         0\n",
       "first_room            35\n",
       "seats_offered          0\n",
       "classroom_capacity    59\n",
       "dtype: int64"
      ]
     },
     "execution_count": 19,
     "metadata": {},
     "output_type": "execute_result"
    }
   ],
   "source": [
    "df.isna().sum()"
   ]
  },
  {
   "cell_type": "code",
   "execution_count": 20,
   "metadata": {},
   "outputs": [],
   "source": [
    "## since we need to use all information we selected, we need to drop null values:\n",
    "\n",
    "df.dropna(inplace=True)"
   ]
  },
  {
   "cell_type": "code",
   "execution_count": 21,
   "metadata": {},
   "outputs": [
    {
     "data": {
      "text/plain": [
       "(522, 11)"
      ]
     },
     "execution_count": 21,
     "metadata": {},
     "output_type": "execute_result"
    }
   ],
   "source": [
    "df.shape"
   ]
  },
  {
   "cell_type": "code",
   "execution_count": 22,
   "metadata": {},
   "outputs": [
    {
     "data": {
      "text/html": [
       "<div>\n",
       "<style scoped>\n",
       "    .dataframe tbody tr th:only-of-type {\n",
       "        vertical-align: middle;\n",
       "    }\n",
       "\n",
       "    .dataframe tbody tr th {\n",
       "        vertical-align: top;\n",
       "    }\n",
       "\n",
       "    .dataframe thead th {\n",
       "        text-align: right;\n",
       "    }\n",
       "</style>\n",
       "<table border=\"1\" class=\"dataframe\">\n",
       "  <thead>\n",
       "    <tr style=\"text-align: right;\">\n",
       "      <th></th>\n",
       "      <th>course</th>\n",
       "      <th>section</th>\n",
       "      <th>title</th>\n",
       "      <th>department</th>\n",
       "      <th>type</th>\n",
       "      <th>first_days</th>\n",
       "      <th>first_begin_time</th>\n",
       "      <th>first_end_time</th>\n",
       "      <th>first_room</th>\n",
       "      <th>seats_offered</th>\n",
       "      <th>classroom_capacity</th>\n",
       "    </tr>\n",
       "  </thead>\n",
       "  <tbody>\n",
       "    <tr>\n",
       "      <td>6804</td>\n",
       "      <td>ACCT-410</td>\n",
       "      <td>14001</td>\n",
       "      <td>Foundations of Accounting</td>\n",
       "      <td>ACCT</td>\n",
       "      <td>Elective</td>\n",
       "      <td>TH</td>\n",
       "      <td>16:00:00</td>\n",
       "      <td>17:50:00</td>\n",
       "      <td>JFF322</td>\n",
       "      <td>46</td>\n",
       "      <td>48.0</td>\n",
       "    </tr>\n",
       "    <tr>\n",
       "      <td>6805</td>\n",
       "      <td>ACCT-410</td>\n",
       "      <td>14002</td>\n",
       "      <td>Foundations of Accounting</td>\n",
       "      <td>ACCT</td>\n",
       "      <td>Elective</td>\n",
       "      <td>TH</td>\n",
       "      <td>10:00:00</td>\n",
       "      <td>11:50:00</td>\n",
       "      <td>ACC310</td>\n",
       "      <td>46</td>\n",
       "      <td>54.0</td>\n",
       "    </tr>\n",
       "    <tr>\n",
       "      <td>6806</td>\n",
       "      <td>ACCT-410</td>\n",
       "      <td>14003</td>\n",
       "      <td>Foundations of Accounting</td>\n",
       "      <td>ACCT</td>\n",
       "      <td>Elective</td>\n",
       "      <td>TH</td>\n",
       "      <td>12:00:00</td>\n",
       "      <td>13:50:00</td>\n",
       "      <td>ACC310</td>\n",
       "      <td>48</td>\n",
       "      <td>54.0</td>\n",
       "    </tr>\n",
       "    <tr>\n",
       "      <td>6807</td>\n",
       "      <td>ACCT-410</td>\n",
       "      <td>14004</td>\n",
       "      <td>Foundations of Accounting</td>\n",
       "      <td>ACCT</td>\n",
       "      <td>Elective</td>\n",
       "      <td>MW</td>\n",
       "      <td>12:00:00</td>\n",
       "      <td>13:50:00</td>\n",
       "      <td>ACC201</td>\n",
       "      <td>48</td>\n",
       "      <td>48.0</td>\n",
       "    </tr>\n",
       "    <tr>\n",
       "      <td>6808</td>\n",
       "      <td>ACCT-410</td>\n",
       "      <td>14005</td>\n",
       "      <td>Foundations of Accounting</td>\n",
       "      <td>ACCT</td>\n",
       "      <td>Elective</td>\n",
       "      <td>MW</td>\n",
       "      <td>14:00:00</td>\n",
       "      <td>15:50:00</td>\n",
       "      <td>ACC201</td>\n",
       "      <td>47</td>\n",
       "      <td>48.0</td>\n",
       "    </tr>\n",
       "  </tbody>\n",
       "</table>\n",
       "</div>"
      ],
      "text/plain": [
       "        course section                      title department      type  \\\n",
       "6804  ACCT-410   14001  Foundations of Accounting       ACCT  Elective   \n",
       "6805  ACCT-410   14002  Foundations of Accounting       ACCT  Elective   \n",
       "6806  ACCT-410   14003  Foundations of Accounting       ACCT  Elective   \n",
       "6807  ACCT-410   14004  Foundations of Accounting       ACCT  Elective   \n",
       "6808  ACCT-410   14005  Foundations of Accounting       ACCT  Elective   \n",
       "\n",
       "     first_days first_begin_time first_end_time first_room  seats_offered  \\\n",
       "6804         TH         16:00:00       17:50:00     JFF322             46   \n",
       "6805         TH         10:00:00       11:50:00     ACC310             46   \n",
       "6806         TH         12:00:00       13:50:00     ACC310             48   \n",
       "6807         MW         12:00:00       13:50:00     ACC201             48   \n",
       "6808         MW         14:00:00       15:50:00     ACC201             47   \n",
       "\n",
       "      classroom_capacity  \n",
       "6804                48.0  \n",
       "6805                54.0  \n",
       "6806                54.0  \n",
       "6807                48.0  \n",
       "6808                48.0  "
      ]
     },
     "execution_count": 22,
     "metadata": {},
     "output_type": "execute_result"
    }
   ],
   "source": [
    "df.head()"
   ]
  },
  {
   "cell_type": "code",
   "execution_count": 23,
   "metadata": {},
   "outputs": [
    {
     "data": {
      "text/plain": [
       "MW     179\n",
       "TH     162\n",
       "T       45\n",
       "M       43\n",
       "W       37\n",
       "H       31\n",
       "F       20\n",
       "S        3\n",
       "MWF      2\n",
       "Name: first_days, dtype: int64"
      ]
     },
     "execution_count": 23,
     "metadata": {},
     "output_type": "execute_result"
    }
   ],
   "source": [
    "df.first_days.value_counts()"
   ]
  },
  {
   "cell_type": "code",
   "execution_count": 15,
   "metadata": {},
   "outputs": [],
   "source": [
    "# pd.to_datetime(df.first_end_time,format='%H:%M:%S') > pd.to_datetime(df.first_begin_time,format='%H:%M:%S')"
   ]
  },
  {
   "cell_type": "code",
   "execution_count": 16,
   "metadata": {},
   "outputs": [],
   "source": [
    "## explore different time chunks\n",
    "\n",
    "time_cks = pd.Series(map(lambda x: [x[0],x[1]], df[['first_begin_time','first_end_time']].values))"
   ]
  },
  {
   "cell_type": "code",
   "execution_count": 17,
   "metadata": {},
   "outputs": [],
   "source": [
    "## for simplicity, I will not consider course of different time chuncks\n",
    "## after value counts, select those only appears at least 2 times\n",
    "## need to implement this for every types of day of the week\n",
    "\n",
    "time_cks_vc = time_cks.value_counts()\n",
    "tcv_index = time_cks_vc.index\n",
    "\n",
    "selected_time_cks = [tcv_index[i] for i,v in enumerate(time_cks_vc) if v > 1]"
   ]
  },
  {
   "cell_type": "code",
   "execution_count": 18,
   "metadata": {},
   "outputs": [
    {
     "data": {
      "text/plain": [
       "['12:00:00', '13:50:00']"
      ]
     },
     "execution_count": 18,
     "metadata": {},
     "output_type": "execute_result"
    }
   ],
   "source": [
    "selected_time_cks[0]"
   ]
  },
  {
   "cell_type": "code",
   "execution_count": 19,
   "metadata": {},
   "outputs": [],
   "source": [
    "selected_begin_times, selected_end_times = zip(*[t for t in selected_time_cks])"
   ]
  },
  {
   "cell_type": "markdown",
   "metadata": {},
   "source": [
    "## II. Demo for MW courses"
   ]
  },
  {
   "cell_type": "code",
   "execution_count": 24,
   "metadata": {},
   "outputs": [],
   "source": [
    "new = df.copy()"
   ]
  },
  {
   "cell_type": "code",
   "execution_count": 25,
   "metadata": {},
   "outputs": [],
   "source": [
    "new = new[(new.first_days == 'MW')]"
   ]
  },
  {
   "cell_type": "code",
   "execution_count": 26,
   "metadata": {},
   "outputs": [],
   "source": [
    "dm_time_cks = pd.Series(map(lambda x: [x[0],x[1]], new[['first_begin_time','first_end_time']].values))"
   ]
  },
  {
   "cell_type": "code",
   "execution_count": 29,
   "metadata": {},
   "outputs": [],
   "source": [
    "dm_time_cks_vc = dm_time_cks.value_counts()\n",
    "dm_tcv_index = dm_time_cks_vc.index\n",
    "\n",
    "dm_selected_time_cks = [dm_tcv_index[i] for i,v in enumerate(dm_time_cks_vc) if v > 1]"
   ]
  },
  {
   "cell_type": "code",
   "execution_count": 30,
   "metadata": {},
   "outputs": [],
   "source": [
    "dm_selected_begin_times, dm_selected_end_times = zip(*[t for t in dm_selected_time_cks])"
   ]
  },
  {
   "cell_type": "code",
   "execution_count": 25,
   "metadata": {},
   "outputs": [],
   "source": [
    "# new_bools = list(map(lambda t: True if (t[0] in dm_selected_begin_times and t[1] in dm_selected_end_times) else False,\n",
    "#             zip(new.first_begin_time, new.first_end_time)))"
   ]
  },
  {
   "cell_type": "code",
   "execution_count": 31,
   "metadata": {},
   "outputs": [],
   "source": [
    "new_bools = list(map(lambda t: True if ([t[0], t[1]] in dm_selected_time_cks) else False,\n",
    "            zip(new.first_begin_time, new.first_end_time)))"
   ]
  },
  {
   "cell_type": "code",
   "execution_count": 32,
   "metadata": {},
   "outputs": [
    {
     "data": {
      "text/html": [
       "<div>\n",
       "<style scoped>\n",
       "    .dataframe tbody tr th:only-of-type {\n",
       "        vertical-align: middle;\n",
       "    }\n",
       "\n",
       "    .dataframe tbody tr th {\n",
       "        vertical-align: top;\n",
       "    }\n",
       "\n",
       "    .dataframe thead th {\n",
       "        text-align: right;\n",
       "    }\n",
       "</style>\n",
       "<table border=\"1\" class=\"dataframe\">\n",
       "  <thead>\n",
       "    <tr style=\"text-align: right;\">\n",
       "      <th></th>\n",
       "      <th>course</th>\n",
       "      <th>section</th>\n",
       "      <th>title</th>\n",
       "      <th>department</th>\n",
       "      <th>type</th>\n",
       "      <th>first_days</th>\n",
       "      <th>first_begin_time</th>\n",
       "      <th>first_end_time</th>\n",
       "      <th>first_room</th>\n",
       "      <th>seats_offered</th>\n",
       "      <th>classroom_capacity</th>\n",
       "    </tr>\n",
       "  </thead>\n",
       "  <tbody>\n",
       "    <tr>\n",
       "      <td>6807</td>\n",
       "      <td>ACCT-410</td>\n",
       "      <td>14004</td>\n",
       "      <td>Foundations of Accounting</td>\n",
       "      <td>ACCT</td>\n",
       "      <td>Elective</td>\n",
       "      <td>MW</td>\n",
       "      <td>12:00:00</td>\n",
       "      <td>13:50:00</td>\n",
       "      <td>ACC201</td>\n",
       "      <td>48</td>\n",
       "      <td>48.0</td>\n",
       "    </tr>\n",
       "    <tr>\n",
       "      <td>6808</td>\n",
       "      <td>ACCT-410</td>\n",
       "      <td>14005</td>\n",
       "      <td>Foundations of Accounting</td>\n",
       "      <td>ACCT</td>\n",
       "      <td>Elective</td>\n",
       "      <td>MW</td>\n",
       "      <td>14:00:00</td>\n",
       "      <td>15:50:00</td>\n",
       "      <td>ACC201</td>\n",
       "      <td>47</td>\n",
       "      <td>48.0</td>\n",
       "    </tr>\n",
       "    <tr>\n",
       "      <td>6812</td>\n",
       "      <td>ACCT-370</td>\n",
       "      <td>14025</td>\n",
       "      <td>External Financial Reporting Issues</td>\n",
       "      <td>ACCT</td>\n",
       "      <td>ACCT Core</td>\n",
       "      <td>MW</td>\n",
       "      <td>08:00:00</td>\n",
       "      <td>09:50:00</td>\n",
       "      <td>ACC303</td>\n",
       "      <td>37</td>\n",
       "      <td>46.0</td>\n",
       "    </tr>\n",
       "  </tbody>\n",
       "</table>\n",
       "</div>"
      ],
      "text/plain": [
       "        course section                                title department  \\\n",
       "6807  ACCT-410   14004            Foundations of Accounting       ACCT   \n",
       "6808  ACCT-410   14005            Foundations of Accounting       ACCT   \n",
       "6812  ACCT-370   14025  External Financial Reporting Issues       ACCT   \n",
       "\n",
       "           type first_days first_begin_time first_end_time first_room  \\\n",
       "6807   Elective         MW         12:00:00       13:50:00     ACC201   \n",
       "6808   Elective         MW         14:00:00       15:50:00     ACC201   \n",
       "6812  ACCT Core         MW         08:00:00       09:50:00     ACC303   \n",
       "\n",
       "      seats_offered  classroom_capacity  \n",
       "6807             48                48.0  \n",
       "6808             47                48.0  \n",
       "6812             37                46.0  "
      ]
     },
     "execution_count": 32,
     "metadata": {},
     "output_type": "execute_result"
    }
   ],
   "source": [
    "new1 = new[new_bools].copy()\n",
    "new1.head(3)"
   ]
  },
  {
   "cell_type": "code",
   "execution_count": 33,
   "metadata": {},
   "outputs": [
    {
     "data": {
      "text/plain": [
       "(175, 11)"
      ]
     },
     "execution_count": 33,
     "metadata": {},
     "output_type": "execute_result"
    }
   ],
   "source": [
    "new1.shape"
   ]
  },
  {
   "cell_type": "code",
   "execution_count": 35,
   "metadata": {},
   "outputs": [],
   "source": [
    "## for the first time chunk\n",
    "\n",
    "new2 = new1[(new1.first_begin_time == dm_selected_begin_times[0])\\\n",
    "            & (new1.first_end_time == dm_selected_end_times[0])].copy()"
   ]
  },
  {
   "cell_type": "code",
   "execution_count": 36,
   "metadata": {},
   "outputs": [
    {
     "data": {
      "text/plain": [
       "(23, 11)"
      ]
     },
     "execution_count": 36,
     "metadata": {},
     "output_type": "execute_result"
    }
   ],
   "source": [
    "new2.shape"
   ]
  },
  {
   "cell_type": "code",
   "execution_count": 41,
   "metadata": {},
   "outputs": [
    {
     "data": {
      "text/html": [
       "<div>\n",
       "<style scoped>\n",
       "    .dataframe tbody tr th:only-of-type {\n",
       "        vertical-align: middle;\n",
       "    }\n",
       "\n",
       "    .dataframe tbody tr th {\n",
       "        vertical-align: top;\n",
       "    }\n",
       "\n",
       "    .dataframe thead th {\n",
       "        text-align: right;\n",
       "    }\n",
       "</style>\n",
       "<table border=\"1\" class=\"dataframe\">\n",
       "  <thead>\n",
       "    <tr style=\"text-align: right;\">\n",
       "      <th></th>\n",
       "      <th>course</th>\n",
       "      <th>section</th>\n",
       "      <th>title</th>\n",
       "      <th>department</th>\n",
       "      <th>type</th>\n",
       "      <th>first_days</th>\n",
       "      <th>first_begin_time</th>\n",
       "      <th>first_end_time</th>\n",
       "      <th>first_room</th>\n",
       "      <th>seats_offered</th>\n",
       "      <th>classroom_capacity</th>\n",
       "    </tr>\n",
       "  </thead>\n",
       "  <tbody>\n",
       "    <tr>\n",
       "      <td>6813</td>\n",
       "      <td>ACCT-370</td>\n",
       "      <td>14026</td>\n",
       "      <td>External Financial Reporting Issues</td>\n",
       "      <td>ACCT</td>\n",
       "      <td>ACCT Core</td>\n",
       "      <td>MW</td>\n",
       "      <td>10:00:00</td>\n",
       "      <td>11:50:00</td>\n",
       "      <td>ACC303</td>\n",
       "      <td>38</td>\n",
       "      <td>46.0</td>\n",
       "    </tr>\n",
       "    <tr>\n",
       "      <td>6823</td>\n",
       "      <td>ACCT-373</td>\n",
       "      <td>14056</td>\n",
       "      <td>Introduction to Auditing and Assurance Services</td>\n",
       "      <td>ACCT</td>\n",
       "      <td>ACCT Core</td>\n",
       "      <td>MW</td>\n",
       "      <td>10:00:00</td>\n",
       "      <td>11:50:00</td>\n",
       "      <td>BRI5</td>\n",
       "      <td>36</td>\n",
       "      <td>42.0</td>\n",
       "    </tr>\n",
       "    <tr>\n",
       "      <td>6830</td>\n",
       "      <td>ACCT-377</td>\n",
       "      <td>14066</td>\n",
       "      <td>Valuation for Financial Statement Purposes</td>\n",
       "      <td>ACCT</td>\n",
       "      <td>ACCT Core</td>\n",
       "      <td>MW</td>\n",
       "      <td>10:00:00</td>\n",
       "      <td>11:50:00</td>\n",
       "      <td>BRI5</td>\n",
       "      <td>35</td>\n",
       "      <td>42.0</td>\n",
       "    </tr>\n",
       "    <tr>\n",
       "      <td>6834</td>\n",
       "      <td>ACCT-470</td>\n",
       "      <td>14115</td>\n",
       "      <td>Advanced External Financial Reporting Issues</td>\n",
       "      <td>ACCT</td>\n",
       "      <td>ACCT Core</td>\n",
       "      <td>MW</td>\n",
       "      <td>10:00:00</td>\n",
       "      <td>11:50:00</td>\n",
       "      <td>ACC201</td>\n",
       "      <td>45</td>\n",
       "      <td>48.0</td>\n",
       "    </tr>\n",
       "    <tr>\n",
       "      <td>6837</td>\n",
       "      <td>ACCT-473</td>\n",
       "      <td>14135</td>\n",
       "      <td>Financial Statement Auditing</td>\n",
       "      <td>ACCT</td>\n",
       "      <td>ACCT Core</td>\n",
       "      <td>MW</td>\n",
       "      <td>10:00:00</td>\n",
       "      <td>11:50:00</td>\n",
       "      <td>JFF328</td>\n",
       "      <td>36</td>\n",
       "      <td>36.0</td>\n",
       "    </tr>\n",
       "  </tbody>\n",
       "</table>\n",
       "</div>"
      ],
      "text/plain": [
       "        course section                                            title  \\\n",
       "6813  ACCT-370   14026              External Financial Reporting Issues   \n",
       "6823  ACCT-373   14056  Introduction to Auditing and Assurance Services   \n",
       "6830  ACCT-377   14066       Valuation for Financial Statement Purposes   \n",
       "6834  ACCT-470   14115     Advanced External Financial Reporting Issues   \n",
       "6837  ACCT-473   14135                     Financial Statement Auditing   \n",
       "\n",
       "     department       type first_days first_begin_time first_end_time  \\\n",
       "6813       ACCT  ACCT Core         MW         10:00:00       11:50:00   \n",
       "6823       ACCT  ACCT Core         MW         10:00:00       11:50:00   \n",
       "6830       ACCT  ACCT Core         MW         10:00:00       11:50:00   \n",
       "6834       ACCT  ACCT Core         MW         10:00:00       11:50:00   \n",
       "6837       ACCT  ACCT Core         MW         10:00:00       11:50:00   \n",
       "\n",
       "     first_room  seats_offered  classroom_capacity  \n",
       "6813     ACC303             38                46.0  \n",
       "6823       BRI5             36                42.0  \n",
       "6830       BRI5             35                42.0  \n",
       "6834     ACC201             45                48.0  \n",
       "6837     JFF328             36                36.0  "
      ]
     },
     "execution_count": 41,
     "metadata": {},
     "output_type": "execute_result"
    }
   ],
   "source": [
    "new2.head()"
   ]
  },
  {
   "cell_type": "code",
   "execution_count": 43,
   "metadata": {},
   "outputs": [
    {
     "data": {
      "text/plain": [
       "22"
      ]
     },
     "execution_count": 43,
     "metadata": {},
     "output_type": "execute_result"
    }
   ],
   "source": [
    "## there is one duplicated name; could be two class happen in one room or typo\n",
    "\n",
    "len(new2.first_room.unique())"
   ]
  },
  {
   "cell_type": "code",
   "execution_count": 44,
   "metadata": {},
   "outputs": [
    {
     "data": {
      "text/plain": [
       "0"
      ]
     },
     "execution_count": 44,
     "metadata": {},
     "output_type": "execute_result"
    }
   ],
   "source": [
    "## so all courses are different; check this for the whole data set?????\n",
    "\n",
    "new2.duplicated(subset=['course','section','title','department']).sum()"
   ]
  },
  {
   "cell_type": "code",
   "execution_count": 34,
   "metadata": {},
   "outputs": [],
   "source": [
    "## actually, we should drop these two records, since we should not \n",
    "##randomly assign two classes in the same classroom\n",
    "\n",
    "# check = []\n",
    "# new_names = []\n",
    "\n",
    "# for r in new2.first_room:\n",
    "#     if r in check:\n",
    "#         new_r = r + '-' + str(check.count(r))\n",
    "#     else:\n",
    "#         new_r = r\n",
    "#     check.append(r)\n",
    "#     new_names.append(new_r)"
   ]
  },
  {
   "cell_type": "code",
   "execution_count": 35,
   "metadata": {},
   "outputs": [],
   "source": [
    "# new2['first_room'] = new_names"
   ]
  },
  {
   "cell_type": "code",
   "execution_count": 45,
   "metadata": {},
   "outputs": [],
   "source": [
    "new2.drop_duplicates(subset = ['first_room'], keep = False, inplace = True)"
   ]
  },
  {
   "cell_type": "code",
   "execution_count": 46,
   "metadata": {},
   "outputs": [
    {
     "data": {
      "text/html": [
       "<div>\n",
       "<style scoped>\n",
       "    .dataframe tbody tr th:only-of-type {\n",
       "        vertical-align: middle;\n",
       "    }\n",
       "\n",
       "    .dataframe tbody tr th {\n",
       "        vertical-align: top;\n",
       "    }\n",
       "\n",
       "    .dataframe thead th {\n",
       "        text-align: right;\n",
       "    }\n",
       "</style>\n",
       "<table border=\"1\" class=\"dataframe\">\n",
       "  <thead>\n",
       "    <tr style=\"text-align: right;\">\n",
       "      <th></th>\n",
       "      <th>course</th>\n",
       "      <th>section</th>\n",
       "      <th>title</th>\n",
       "      <th>department</th>\n",
       "      <th>type</th>\n",
       "      <th>first_days</th>\n",
       "      <th>first_begin_time</th>\n",
       "      <th>first_end_time</th>\n",
       "      <th>first_room</th>\n",
       "      <th>seats_offered</th>\n",
       "      <th>classroom_capacity</th>\n",
       "    </tr>\n",
       "  </thead>\n",
       "  <tbody>\n",
       "    <tr>\n",
       "      <td>6813</td>\n",
       "      <td>ACCT-370</td>\n",
       "      <td>14026</td>\n",
       "      <td>External Financial Reporting Issues</td>\n",
       "      <td>ACCT</td>\n",
       "      <td>ACCT Core</td>\n",
       "      <td>MW</td>\n",
       "      <td>10:00:00</td>\n",
       "      <td>11:50:00</td>\n",
       "      <td>ACC303</td>\n",
       "      <td>38</td>\n",
       "      <td>46.0</td>\n",
       "    </tr>\n",
       "    <tr>\n",
       "      <td>6834</td>\n",
       "      <td>ACCT-470</td>\n",
       "      <td>14115</td>\n",
       "      <td>Advanced External Financial Reporting Issues</td>\n",
       "      <td>ACCT</td>\n",
       "      <td>ACCT Core</td>\n",
       "      <td>MW</td>\n",
       "      <td>10:00:00</td>\n",
       "      <td>11:50:00</td>\n",
       "      <td>ACC201</td>\n",
       "      <td>45</td>\n",
       "      <td>48.0</td>\n",
       "    </tr>\n",
       "    <tr>\n",
       "      <td>6837</td>\n",
       "      <td>ACCT-473</td>\n",
       "      <td>14135</td>\n",
       "      <td>Financial Statement Auditing</td>\n",
       "      <td>ACCT</td>\n",
       "      <td>ACCT Core</td>\n",
       "      <td>MW</td>\n",
       "      <td>10:00:00</td>\n",
       "      <td>11:50:00</td>\n",
       "      <td>JFF328</td>\n",
       "      <td>36</td>\n",
       "      <td>36.0</td>\n",
       "    </tr>\n",
       "  </tbody>\n",
       "</table>\n",
       "</div>"
      ],
      "text/plain": [
       "        course section                                         title  \\\n",
       "6813  ACCT-370   14026           External Financial Reporting Issues   \n",
       "6834  ACCT-470   14115  Advanced External Financial Reporting Issues   \n",
       "6837  ACCT-473   14135                  Financial Statement Auditing   \n",
       "\n",
       "     department       type first_days first_begin_time first_end_time  \\\n",
       "6813       ACCT  ACCT Core         MW         10:00:00       11:50:00   \n",
       "6834       ACCT  ACCT Core         MW         10:00:00       11:50:00   \n",
       "6837       ACCT  ACCT Core         MW         10:00:00       11:50:00   \n",
       "\n",
       "     first_room  seats_offered  classroom_capacity  \n",
       "6813     ACC303             38                46.0  \n",
       "6834     ACC201             45                48.0  \n",
       "6837     JFF328             36                36.0  "
      ]
     },
     "execution_count": 46,
     "metadata": {},
     "output_type": "execute_result"
    }
   ],
   "source": [
    "new2.head(3)"
   ]
  },
  {
   "cell_type": "code",
   "execution_count": 47,
   "metadata": {},
   "outputs": [],
   "source": [
    "new2['id'] = new2.course + new2.section"
   ]
  },
  {
   "cell_type": "code",
   "execution_count": 48,
   "metadata": {},
   "outputs": [
    {
     "data": {
      "text/plain": [
       "0.914922558077704"
      ]
     },
     "execution_count": 48,
     "metadata": {},
     "output_type": "execute_result"
    }
   ],
   "source": [
    "## calculate original average room efficiency\n",
    "\n",
    "orig_re = np.mean(new2.seats_offered/new2.classroom_capacity)\n",
    "orig_re"
   ]
  },
  {
   "cell_type": "code",
   "execution_count": 40,
   "metadata": {},
   "outputs": [
    {
     "name": "stdout",
     "output_type": "stream",
     "text": [
      "Using license file /Users/aslanshi/gurobi.lic\n",
      "Academic license - for non-commercial use only\n"
     ]
    }
   ],
   "source": [
    "## optimization\n",
    "## gave an error because in the data, there is one course was scheduled with limit > capacity\n",
    "## this may cause not feasiable issue if the optimal solution is the schedule that course as it was\n",
    "## so we could allow extra seats but with limits\n",
    "\n",
    "course = new2[['id','seats_offered']].set_index('id')\n",
    "room = new2[['first_room','classroom_capacity']].set_index('first_room')\n",
    "\n",
    "from gurobipy import GRB, Model\n",
    "\n",
    "mod = Model()\n",
    "\n",
    "I = course.index\n",
    "J = room.index\n",
    "# extra = 1\n",
    "\n",
    "x = mod.addVars(I, J, vtype = GRB.BINARY)\n",
    "y = mod.addVars(I,J, lb = 0, ub = 5, vtype = GRB.INTEGER)\n",
    "\n",
    "mod.setObjective(sum(x[i,j]*course.loc[i,:]/room.loc[j,:] for i in I for j in J)-\\\n",
    "                 sum(y[i,j] for i in I for j in J), sense = GRB.MAXIMIZE)\n",
    "\n",
    "for i in I:\n",
    "    mod.addConstr(sum(x[i,j] for j in J) == 1)\n",
    "    for j in J:\n",
    "        mod.addConstr(x[i,j]*course.loc[i,:] <= y[i,j] + room.loc[j,:])\n",
    "for j in J:\n",
    "    mod.addConstr(sum(x[i,j] for i in I) == 1)\n",
    "\n",
    "mod.setParam('outputflag',False)\n",
    "mod.optimize()"
   ]
  },
  {
   "cell_type": "code",
   "execution_count": 41,
   "metadata": {},
   "outputs": [
    {
     "data": {
      "text/plain": [
       "0.9214041453539504"
      ]
     },
     "execution_count": 41,
     "metadata": {},
     "output_type": "execute_result"
    }
   ],
   "source": [
    "## imporve a bit\n",
    "\n",
    "mod.objval/len(new2)"
   ]
  },
  {
   "cell_type": "code",
   "execution_count": 42,
   "metadata": {},
   "outputs": [
    {
     "data": {
      "text/html": [
       "<div>\n",
       "<style scoped>\n",
       "    .dataframe tbody tr th:only-of-type {\n",
       "        vertical-align: middle;\n",
       "    }\n",
       "\n",
       "    .dataframe tbody tr th {\n",
       "        vertical-align: top;\n",
       "    }\n",
       "\n",
       "    .dataframe thead th {\n",
       "        text-align: right;\n",
       "    }\n",
       "</style>\n",
       "<table border=\"1\" class=\"dataframe\">\n",
       "  <thead>\n",
       "    <tr style=\"text-align: right;\">\n",
       "      <th></th>\n",
       "      <th>Course</th>\n",
       "    </tr>\n",
       "    <tr>\n",
       "      <th>id</th>\n",
       "      <th></th>\n",
       "    </tr>\n",
       "  </thead>\n",
       "  <tbody>\n",
       "    <tr>\n",
       "      <td>ACCT-37014026</td>\n",
       "      <td>HOH2</td>\n",
       "    </tr>\n",
       "    <tr>\n",
       "      <td>ACCT-47014115</td>\n",
       "      <td>ACC303</td>\n",
       "    </tr>\n",
       "    <tr>\n",
       "      <td>ACCT-47314135</td>\n",
       "      <td>JFF417</td>\n",
       "    </tr>\n",
       "    <tr>\n",
       "      <td>ACCT-43014144</td>\n",
       "      <td>BRI202</td>\n",
       "    </tr>\n",
       "    <tr>\n",
       "      <td>BAEP-47114403</td>\n",
       "      <td>JFF328</td>\n",
       "    </tr>\n",
       "    <tr>\n",
       "      <td>BUAD-30214650</td>\n",
       "      <td>JFF327</td>\n",
       "    </tr>\n",
       "    <tr>\n",
       "      <td>BUAD-30214652</td>\n",
       "      <td>JFF331</td>\n",
       "    </tr>\n",
       "    <tr>\n",
       "      <td>BUAD-30414721</td>\n",
       "      <td>ACC201</td>\n",
       "    </tr>\n",
       "    <tr>\n",
       "      <td>BUAD-30614788</td>\n",
       "      <td>JFF414</td>\n",
       "    </tr>\n",
       "    <tr>\n",
       "      <td>BUAD-31114909</td>\n",
       "      <td>HOH1</td>\n",
       "    </tr>\n",
       "    <tr>\n",
       "      <td>BUAD-49715094</td>\n",
       "      <td>JFF LL102</td>\n",
       "    </tr>\n",
       "    <tr>\n",
       "      <td>BUAD-49715106</td>\n",
       "      <td>JFF240</td>\n",
       "    </tr>\n",
       "    <tr>\n",
       "      <td>FBE-40315320</td>\n",
       "      <td>JFF LL125</td>\n",
       "    </tr>\n",
       "    <tr>\n",
       "      <td>FBE-43215342</td>\n",
       "      <td>JFF236</td>\n",
       "    </tr>\n",
       "    <tr>\n",
       "      <td>FBE-44115362</td>\n",
       "      <td>JFF316</td>\n",
       "    </tr>\n",
       "    <tr>\n",
       "      <td>DSO-49916243</td>\n",
       "      <td>ACC310</td>\n",
       "    </tr>\n",
       "    <tr>\n",
       "      <td>MKT-40516469</td>\n",
       "      <td>JFF322</td>\n",
       "    </tr>\n",
       "    <tr>\n",
       "      <td>MKT-40616476</td>\n",
       "      <td>JFF416</td>\n",
       "    </tr>\n",
       "    <tr>\n",
       "      <td>MKT-45016498</td>\n",
       "      <td>JFF LL101</td>\n",
       "    </tr>\n",
       "    <tr>\n",
       "      <td>MOR-45116668</td>\n",
       "      <td>JFF241</td>\n",
       "    </tr>\n",
       "    <tr>\n",
       "      <td>ECON-35226364</td>\n",
       "      <td>JFF LL105</td>\n",
       "    </tr>\n",
       "  </tbody>\n",
       "</table>\n",
       "</div>"
      ],
      "text/plain": [
       "                  Course\n",
       "id                      \n",
       "ACCT-37014026       HOH2\n",
       "ACCT-47014115     ACC303\n",
       "ACCT-47314135     JFF417\n",
       "ACCT-43014144     BRI202\n",
       "BAEP-47114403     JFF328\n",
       "BUAD-30214650     JFF327\n",
       "BUAD-30214652     JFF331\n",
       "BUAD-30414721     ACC201\n",
       "BUAD-30614788     JFF414\n",
       "BUAD-31114909       HOH1\n",
       "BUAD-49715094  JFF LL102\n",
       "BUAD-49715106     JFF240\n",
       "FBE-40315320   JFF LL125\n",
       "FBE-43215342      JFF236\n",
       "FBE-44115362      JFF316\n",
       "DSO-49916243      ACC310\n",
       "MKT-40516469      JFF322\n",
       "MKT-40616476      JFF416\n",
       "MKT-45016498   JFF LL101\n",
       "MOR-45116668      JFF241\n",
       "ECON-35226364  JFF LL105"
      ]
     },
     "execution_count": 42,
     "metadata": {},
     "output_type": "execute_result"
    }
   ],
   "source": [
    "## new schedule\n",
    "\n",
    "result = pd.DataFrame(index=I, columns=['Course'])\n",
    "for i in I:\n",
    "    for j in J:\n",
    "        if x[i,j].x:\n",
    "            result.loc[i,'Course'] = j\n",
    "result"
   ]
  },
  {
   "cell_type": "markdown",
   "metadata": {},
   "source": [
    "## III. For all Dow types"
   ]
  },
  {
   "cell_type": "code",
   "execution_count": 43,
   "metadata": {},
   "outputs": [],
   "source": [
    "new3 = df.copy()"
   ]
  },
  {
   "cell_type": "code",
   "execution_count": 44,
   "metadata": {},
   "outputs": [
    {
     "data": {
      "text/plain": [
       "MW     179\n",
       "TH     162\n",
       "T       45\n",
       "M       43\n",
       "W       37\n",
       "H       31\n",
       "F       20\n",
       "S        3\n",
       "MWF      2\n",
       "Name: first_days, dtype: int64"
      ]
     },
     "execution_count": 44,
     "metadata": {},
     "output_type": "execute_result"
    }
   ],
   "source": [
    "dow_vc = new3.first_days.value_counts()\n",
    "dow_vc"
   ]
  },
  {
   "cell_type": "code",
   "execution_count": 45,
   "metadata": {},
   "outputs": [
    {
     "data": {
      "text/html": [
       "<div>\n",
       "<style scoped>\n",
       "    .dataframe tbody tr th:only-of-type {\n",
       "        vertical-align: middle;\n",
       "    }\n",
       "\n",
       "    .dataframe tbody tr th {\n",
       "        vertical-align: top;\n",
       "    }\n",
       "\n",
       "    .dataframe thead th {\n",
       "        text-align: right;\n",
       "    }\n",
       "</style>\n",
       "<table border=\"1\" class=\"dataframe\">\n",
       "  <thead>\n",
       "    <tr style=\"text-align: right;\">\n",
       "      <th></th>\n",
       "      <th>course</th>\n",
       "      <th>section</th>\n",
       "      <th>title</th>\n",
       "      <th>department</th>\n",
       "      <th>type</th>\n",
       "      <th>first_days</th>\n",
       "      <th>first_begin_time</th>\n",
       "      <th>first_end_time</th>\n",
       "      <th>first_room</th>\n",
       "      <th>seats_offered</th>\n",
       "      <th>classroom_capacity</th>\n",
       "    </tr>\n",
       "  </thead>\n",
       "  <tbody>\n",
       "    <tr>\n",
       "      <td>7337</td>\n",
       "      <td>WRIT-340</td>\n",
       "      <td>66701</td>\n",
       "      <td>Advanced Writing</td>\n",
       "      <td>BUCO</td>\n",
       "      <td>WRIT</td>\n",
       "      <td>MWF</td>\n",
       "      <td>08:00:00</td>\n",
       "      <td>08:50:00</td>\n",
       "      <td>JFF331</td>\n",
       "      <td>19</td>\n",
       "      <td>36.0</td>\n",
       "    </tr>\n",
       "    <tr>\n",
       "      <td>7338</td>\n",
       "      <td>WRIT-340</td>\n",
       "      <td>66710</td>\n",
       "      <td>Advanced Writing</td>\n",
       "      <td>BUCO</td>\n",
       "      <td>WRIT</td>\n",
       "      <td>MWF</td>\n",
       "      <td>09:00:00</td>\n",
       "      <td>09:50:00</td>\n",
       "      <td>JFF331</td>\n",
       "      <td>19</td>\n",
       "      <td>36.0</td>\n",
       "    </tr>\n",
       "  </tbody>\n",
       "</table>\n",
       "</div>"
      ],
      "text/plain": [
       "        course section             title department  type first_days  \\\n",
       "7337  WRIT-340   66701  Advanced Writing       BUCO  WRIT        MWF   \n",
       "7338  WRIT-340   66710  Advanced Writing       BUCO  WRIT        MWF   \n",
       "\n",
       "     first_begin_time first_end_time first_room  seats_offered  \\\n",
       "7337         08:00:00       08:50:00     JFF331             19   \n",
       "7338         09:00:00       09:50:00     JFF331             19   \n",
       "\n",
       "      classroom_capacity  \n",
       "7337                36.0  \n",
       "7338                36.0  "
      ]
     },
     "execution_count": 45,
     "metadata": {},
     "output_type": "execute_result"
    }
   ],
   "source": [
    "## no conflicts for these 2 classes\n",
    "\n",
    "new3[new3.first_days == 'MWF']"
   ]
  },
  {
   "cell_type": "markdown",
   "metadata": {},
   "source": [
    "### Description of the model:\n",
    "\n",
    "The following optimiation model will, for those couses that are on the same dow schedule and in the same time chunk (call it a window), if there are more than 1 course in a window, output new assignment based the previous one to optimize the room efficiencies. For those courses that stand alone in its window, or extremely overfit in the last term, their schedules will remain the same. "
   ]
  },
  {
   "cell_type": "code",
   "execution_count": 46,
   "metadata": {},
   "outputs": [],
   "source": [
    "dow = []\n",
    "tcks = []\n",
    "orig_mean_re = []\n",
    "orig_min_re = []\n",
    "orig_max_re = []\n",
    "opt_mean_re = []\n",
    "opt_min_re = []\n",
    "opt_max_re = []\n",
    "\n",
    "\n",
    "for t in dow_vc.index:\n",
    "    \n",
    "    ## select corresponding dow schedule\n",
    "    temp = new3[new3.first_days == t].copy()\n",
    "    \n",
    "    ## select time chunks in which there are more than 1 course \n",
    "    time_cks = pd.Series(map(lambda x: [x[0],x[1]], temp[['first_begin_time','first_end_time']].values))\n",
    "    time_cks_vc = time_cks.value_counts()\n",
    "    tcv_index = time_cks_vc.index\n",
    "    \n",
    "    selected_time_cks = [tcv_index[i] for i,v in enumerate(time_cks_vc) if v > 1]\n",
    "    \n",
    "    ## if there are no more than one courses in a window, not using them in optimization\n",
    "    ## consider the MWF case above\n",
    "    if len(selected_time_cks) == 0:\n",
    "        continue\n",
    "    \n",
    "    selected_begin_times, selected_end_times = zip(*[t for t in selected_time_cks])\n",
    "    \n",
    "    bools = list(map(lambda t: True if ([t[0], t[1]] in selected_time_cks) else False,\n",
    "            zip(temp.first_begin_time, temp.first_end_time)))\n",
    "    \n",
    "    ## select courses in selected time chunks\n",
    "    ## so for the remaining couses, they stand alone in their window\n",
    "    temp = temp[bools]\n",
    "    \n",
    "    for idx in range(len(selected_begin_times)):\n",
    "        \n",
    "        ## select couses belonging to the ith selected chunks\n",
    "        temp1 = temp[(temp.first_begin_time == selected_begin_times[idx])\\\n",
    "                & (temp.first_end_time == selected_end_times[idx])].copy()\n",
    "        \n",
    "        ## in some cases, two different could use the same classroom\n",
    "        ## we should drop them since we should not assign two random classes in the same room in the same window\n",
    "        temp1.drop_duplicates(subset = ['first_room'], keep = False, inplace = True)\n",
    "        \n",
    "        ## there are cases when 2 classes with different course id but in the same room in the same window\n",
    "        ## not sure the logistic behind this\n",
    "        ## if that happens, and thoses are the only courses in the window, the resulting dataframe will be empty\n",
    "        if len(temp1) == 0:\n",
    "            continue\n",
    "            \n",
    "        dow.append(t)\n",
    "        tcks.append((selected_begin_times[idx], selected_end_times[idx]))\n",
    "        \n",
    "        ## create a course ID\n",
    "        temp1['id'] = temp1.course + temp1.section\n",
    "        \n",
    "        ## calculating original average/min/max room efficiency for this window\n",
    "        orig_mean = np.mean(temp1.seats_offered/temp1.classroom_capacity)\n",
    "        orig_min = min(temp1.seats_offered/temp1.classroom_capacity)\n",
    "        orig_max = max(temp1.seats_offered/temp1.classroom_capacity)\n",
    "        orig_mean_re.append(orig_mean)\n",
    "        orig_min_re.append(orig_min)\n",
    "        orig_max_re.append(orig_max)\n",
    "        \n",
    "        course = temp1[['id','seats_offered']].set_index('id')\n",
    "        room = temp1[['first_room','classroom_capacity']].set_index('first_room')\n",
    "\n",
    "        mod = Model()\n",
    "\n",
    "        I = course.index\n",
    "        J = room.index\n",
    "\n",
    "        x = mod.addVars(I, J, vtype = GRB.BINARY)\n",
    "        y = mod.addVars(I,J, lb = 0, ub = 5, vtype = GRB.INTEGER)\n",
    "        \n",
    "        ## the objective is to maximize total room efficiency, while limit the extra spots used\n",
    "        RE = sum(x[i,j]*course.loc[i,:]/room.loc[j,:] for i in I for j in J)\n",
    "        extra = sum(y[i,j] for i in I for j in J)\n",
    "        mod.setObjective(RE - extra, sense = GRB.MAXIMIZE)\n",
    "\n",
    "        for i in I:\n",
    "            mod.addConstr(sum(x[i,j] for j in J) == 1)\n",
    "            for j in J:\n",
    "                mod.addConstr(x[i,j]*course.loc[i,:] <= y[i,j] + room.loc[j,:])\n",
    "        for j in J:\n",
    "            mod.addConstr(sum(x[i,j] for i in I) == 1)\n",
    "\n",
    "        mod.setParam('outputflag',False)\n",
    "        mod.optimize()\n",
    "        \n",
    "        ## there may be cases the the number of seats offered overfit the capacity\n",
    "        ## it may the limit of rooms, or the expected # of registered is not high\n",
    "        ## if so, optimization will fail (note: y has an upper bound)\n",
    "        ## it's rare, so these courses will remain in the same classroom\n",
    "        try:\n",
    "            opt_mean = RE.getValue()/len(temp1)\n",
    "            m = []\n",
    "            for i in I:\n",
    "                for j in J:\n",
    "                    if x[i,j].x:\n",
    "                        m.append(x[i,j].x*course.loc[i,:].values[0]/room.loc[j,:].values[0])\n",
    "            opt_min = min(m)\n",
    "            opt_max = max([x[i,j].x*course.loc[i,:].values[0]/room.loc[j,:].values[0] for i in I for j in J])\n",
    "        except:\n",
    "            opt_mean = 'Original Schedule Overfit'\n",
    "            opt_min = 'Original Schedule Overfit'\n",
    "            opt_max = 'Original Schedule Overfit'\n",
    "         \n",
    "        opt_mean_re.append(opt_mean)\n",
    "        opt_min_re.append(opt_min)\n",
    "        opt_max_re.append(opt_max)"
   ]
  },
  {
   "cell_type": "code",
   "execution_count": 47,
   "metadata": {},
   "outputs": [],
   "source": [
    "result_df = pd.DataFrame(dict(zip(['DOW','Time Chunk','Orig_RE_Mean','Orig_RE_Min','Orig_RE_Max',\n",
    "                                   'Opt_RE_Mean','Opt_RE_Min','Opt_RE_Max'],\n",
    "                                  [dow,tcks,orig_mean_re,orig_min_re,orig_max_re,\n",
    "                                   opt_mean_re,opt_min_re,opt_max_re])))"
   ]
  },
  {
   "cell_type": "code",
   "execution_count": 48,
   "metadata": {},
   "outputs": [],
   "source": [
    "# result_df.to_excel('Classroom_optimization_result.xlsx')"
   ]
  },
  {
   "cell_type": "code",
   "execution_count": 49,
   "metadata": {},
   "outputs": [
    {
     "data": {
      "text/html": [
       "<div>\n",
       "<style scoped>\n",
       "    .dataframe tbody tr th:only-of-type {\n",
       "        vertical-align: middle;\n",
       "    }\n",
       "\n",
       "    .dataframe tbody tr th {\n",
       "        vertical-align: top;\n",
       "    }\n",
       "\n",
       "    .dataframe thead th {\n",
       "        text-align: right;\n",
       "    }\n",
       "</style>\n",
       "<table border=\"1\" class=\"dataframe\">\n",
       "  <thead>\n",
       "    <tr style=\"text-align: right;\">\n",
       "      <th></th>\n",
       "      <th>DOW</th>\n",
       "      <th>Time Chunk</th>\n",
       "      <th>Orig_RE_Mean</th>\n",
       "      <th>Orig_RE_Min</th>\n",
       "      <th>Orig_RE_Max</th>\n",
       "      <th>Opt_RE_Mean</th>\n",
       "      <th>Opt_RE_Min</th>\n",
       "      <th>Opt_RE_Max</th>\n",
       "    </tr>\n",
       "  </thead>\n",
       "  <tbody>\n",
       "    <tr>\n",
       "      <td>0</td>\n",
       "      <td>MW</td>\n",
       "      <td>(10:00:00, 11:50:00)</td>\n",
       "      <td>0.914923</td>\n",
       "      <td>0.617450</td>\n",
       "      <td>1.000000</td>\n",
       "      <td>0.921404</td>\n",
       "      <td>0.516779</td>\n",
       "      <td>1</td>\n",
       "    </tr>\n",
       "    <tr>\n",
       "      <td>1</td>\n",
       "      <td>MW</td>\n",
       "      <td>(12:00:00, 13:50:00)</td>\n",
       "      <td>0.915698</td>\n",
       "      <td>0.489933</td>\n",
       "      <td>1.013699</td>\n",
       "      <td>0.916269</td>\n",
       "      <td>0.496644</td>\n",
       "      <td>1</td>\n",
       "    </tr>\n",
       "    <tr>\n",
       "      <td>2</td>\n",
       "      <td>MW</td>\n",
       "      <td>(16:00:00, 17:50:00)</td>\n",
       "      <td>0.903737</td>\n",
       "      <td>0.271375</td>\n",
       "      <td>1.016667</td>\n",
       "      <td>0.908113</td>\n",
       "      <td>0.237918</td>\n",
       "      <td>1.01667</td>\n",
       "    </tr>\n",
       "    <tr>\n",
       "      <td>3</td>\n",
       "      <td>MW</td>\n",
       "      <td>(14:00:00, 15:50:00)</td>\n",
       "      <td>0.920496</td>\n",
       "      <td>0.563758</td>\n",
       "      <td>1.000000</td>\n",
       "      <td>0.920675</td>\n",
       "      <td>0.563758</td>\n",
       "      <td>1</td>\n",
       "    </tr>\n",
       "    <tr>\n",
       "      <td>4</td>\n",
       "      <td>MW</td>\n",
       "      <td>(14:00:00, 15:20:00)</td>\n",
       "      <td>0.797411</td>\n",
       "      <td>0.538462</td>\n",
       "      <td>1.000000</td>\n",
       "      <td>0.81655</td>\n",
       "      <td>0.384615</td>\n",
       "      <td>1</td>\n",
       "    </tr>\n",
       "  </tbody>\n",
       "</table>\n",
       "</div>"
      ],
      "text/plain": [
       "  DOW            Time Chunk  Orig_RE_Mean  Orig_RE_Min  Orig_RE_Max  \\\n",
       "0  MW  (10:00:00, 11:50:00)      0.914923     0.617450     1.000000   \n",
       "1  MW  (12:00:00, 13:50:00)      0.915698     0.489933     1.013699   \n",
       "2  MW  (16:00:00, 17:50:00)      0.903737     0.271375     1.016667   \n",
       "3  MW  (14:00:00, 15:50:00)      0.920496     0.563758     1.000000   \n",
       "4  MW  (14:00:00, 15:20:00)      0.797411     0.538462     1.000000   \n",
       "\n",
       "  Opt_RE_Mean Opt_RE_Min Opt_RE_Max  \n",
       "0    0.921404   0.516779          1  \n",
       "1    0.916269   0.496644          1  \n",
       "2    0.908113   0.237918    1.01667  \n",
       "3    0.920675   0.563758          1  \n",
       "4     0.81655   0.384615          1  "
      ]
     },
     "execution_count": 49,
     "metadata": {},
     "output_type": "execute_result"
    }
   ],
   "source": [
    "result_df.head()"
   ]
  },
  {
   "cell_type": "code",
   "execution_count": 50,
   "metadata": {},
   "outputs": [],
   "source": [
    "filter1_bools = list(map(lambda t: True if type(t) != str else False, result_df.Opt_RE_Mean))\n",
    "result_df = result_df[filter1_bools]\n",
    "\n",
    "# result_df['Opt_Room_Efficiency'] = result_df['Opt_Room_Efficiency'].astype(float)\n",
    "\n",
    "# filter2_bools = list(map(lambda t: True if t > 0 else False, result_df.Opt_RE_Mean))\n",
    "# result_df = result_df[filter2_bools]"
   ]
  },
  {
   "cell_type": "code",
   "execution_count": 51,
   "metadata": {},
   "outputs": [
    {
     "name": "stdout",
     "output_type": "stream",
     "text": [
      "Original Average Room Efficiency Mean: 85.9%.\n",
      "Optimized Average Room Efficiency Mean: 86.3%.\n"
     ]
    }
   ],
   "source": [
    "print(f'Original Average Room Efficiency Mean: {100*np.mean(result_df.Orig_RE_Mean):.1f}%.')\n",
    "print(f'Optimized Average Room Efficiency Mean: {100*np.mean(result_df.Opt_RE_Mean):.1f}%.')"
   ]
  },
  {
   "cell_type": "code",
   "execution_count": 52,
   "metadata": {},
   "outputs": [
    {
     "name": "stdout",
     "output_type": "stream",
     "text": [
      "Original Average Room Efficiency Min: 62.6%.\n",
      "Optimized Average Room Efficiency Min: 60.1%.\n"
     ]
    }
   ],
   "source": [
    "print(f'Original Average Room Efficiency Min: {100*np.mean(result_df.Orig_RE_Min):.1f}%.')\n",
    "print(f'Optimized Average Room Efficiency Min: {100*np.mean(result_df.Opt_RE_Min):.1f}%.')"
   ]
  },
  {
   "cell_type": "code",
   "execution_count": 53,
   "metadata": {
    "scrolled": true
   },
   "outputs": [
    {
     "name": "stdout",
     "output_type": "stream",
     "text": [
      "Original Average Room Efficiency Max: 97.3%.\n",
      "Optimized Average Room Efficiency Max: 97.5%.\n"
     ]
    }
   ],
   "source": [
    "print(f'Original Average Room Efficiency Max: {100*np.mean(result_df.Orig_RE_Max):.1f}%.')\n",
    "print(f'Optimized Average Room Efficiency Max: {100*np.mean(result_df.Opt_RE_Max):.1f}%.')"
   ]
  }
 ],
 "metadata": {
  "kernelspec": {
   "display_name": "Python 3",
   "language": "python",
   "name": "python3"
  },
  "language_info": {
   "codemirror_mode": {
    "name": "ipython",
    "version": 3
   },
   "file_extension": ".py",
   "mimetype": "text/x-python",
   "name": "python",
   "nbconvert_exporter": "python",
   "pygments_lexer": "ipython3",
   "version": "3.7.4"
  }
 },
 "nbformat": 4,
 "nbformat_minor": 2
}
