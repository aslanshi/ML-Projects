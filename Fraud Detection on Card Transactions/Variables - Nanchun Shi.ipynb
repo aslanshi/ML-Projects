{
 "cells": [
  {
   "cell_type": "code",
   "execution_count": 1,
   "metadata": {},
   "outputs": [],
   "source": [
    "import pandas as pd\n",
    "import numpy as np\n",
    "import datetime as dt\n",
    "import timeit\n",
    "start_time = pd.datetime.now()"
   ]
  },
  {
   "cell_type": "code",
   "execution_count": 2,
   "metadata": {},
   "outputs": [],
   "source": [
    "df = pd.read_csv('cleaned_data.csv', index_col = 0)"
   ]
  },
  {
   "cell_type": "code",
   "execution_count": 3,
   "metadata": {},
   "outputs": [
    {
     "data": {
      "text/plain": [
       "(96397, 12)"
      ]
     },
     "execution_count": 3,
     "metadata": {},
     "output_type": "execute_result"
    }
   ],
   "source": [
    "df.shape"
   ]
  },
  {
   "cell_type": "code",
   "execution_count": 4,
   "metadata": {},
   "outputs": [
    {
     "data": {
      "text/html": [
       "<div>\n",
       "<style scoped>\n",
       "    .dataframe tbody tr th:only-of-type {\n",
       "        vertical-align: middle;\n",
       "    }\n",
       "\n",
       "    .dataframe tbody tr th {\n",
       "        vertical-align: top;\n",
       "    }\n",
       "\n",
       "    .dataframe thead th {\n",
       "        text-align: right;\n",
       "    }\n",
       "</style>\n",
       "<table border=\"1\" class=\"dataframe\">\n",
       "  <thead>\n",
       "    <tr style=\"text-align: right;\">\n",
       "      <th></th>\n",
       "      <th>Recnum</th>\n",
       "      <th>Cardnum</th>\n",
       "      <th>Date</th>\n",
       "      <th>Merchnum</th>\n",
       "      <th>Merch description</th>\n",
       "      <th>Merch state</th>\n",
       "      <th>Merch zip</th>\n",
       "      <th>Transtype</th>\n",
       "      <th>Amount</th>\n",
       "      <th>Fraud</th>\n",
       "      <th>Dow</th>\n",
       "      <th>Dow_Risk</th>\n",
       "    </tr>\n",
       "  </thead>\n",
       "  <tbody>\n",
       "    <tr>\n",
       "      <td>0</td>\n",
       "      <td>1</td>\n",
       "      <td>5142190439</td>\n",
       "      <td>2010-01-01</td>\n",
       "      <td>5509006296254</td>\n",
       "      <td>FEDEX SHP 12/23/09 AB#</td>\n",
       "      <td>TN</td>\n",
       "      <td>38118.0</td>\n",
       "      <td>P</td>\n",
       "      <td>3.62</td>\n",
       "      <td>0</td>\n",
       "      <td>Friday</td>\n",
       "      <td>0.022419</td>\n",
       "    </tr>\n",
       "    <tr>\n",
       "      <td>1</td>\n",
       "      <td>2</td>\n",
       "      <td>5142183973</td>\n",
       "      <td>2010-01-01</td>\n",
       "      <td>61003026333</td>\n",
       "      <td>SERVICE MERCHANDISE #81</td>\n",
       "      <td>MA</td>\n",
       "      <td>1803.0</td>\n",
       "      <td>P</td>\n",
       "      <td>31.42</td>\n",
       "      <td>0</td>\n",
       "      <td>Friday</td>\n",
       "      <td>0.022419</td>\n",
       "    </tr>\n",
       "    <tr>\n",
       "      <td>2</td>\n",
       "      <td>3</td>\n",
       "      <td>5142131721</td>\n",
       "      <td>2010-01-01</td>\n",
       "      <td>4503082993600</td>\n",
       "      <td>OFFICE DEPOT #191</td>\n",
       "      <td>MD</td>\n",
       "      <td>20706.0</td>\n",
       "      <td>P</td>\n",
       "      <td>178.49</td>\n",
       "      <td>0</td>\n",
       "      <td>Friday</td>\n",
       "      <td>0.022419</td>\n",
       "    </tr>\n",
       "    <tr>\n",
       "      <td>3</td>\n",
       "      <td>4</td>\n",
       "      <td>5142148452</td>\n",
       "      <td>2010-01-01</td>\n",
       "      <td>5509006296254</td>\n",
       "      <td>FEDEX SHP 12/28/09 AB#</td>\n",
       "      <td>TN</td>\n",
       "      <td>38118.0</td>\n",
       "      <td>P</td>\n",
       "      <td>3.62</td>\n",
       "      <td>0</td>\n",
       "      <td>Friday</td>\n",
       "      <td>0.022419</td>\n",
       "    </tr>\n",
       "    <tr>\n",
       "      <td>4</td>\n",
       "      <td>5</td>\n",
       "      <td>5142190439</td>\n",
       "      <td>2010-01-01</td>\n",
       "      <td>5509006296254</td>\n",
       "      <td>FEDEX SHP 12/23/09 AB#</td>\n",
       "      <td>TN</td>\n",
       "      <td>38118.0</td>\n",
       "      <td>P</td>\n",
       "      <td>3.62</td>\n",
       "      <td>0</td>\n",
       "      <td>Friday</td>\n",
       "      <td>0.022419</td>\n",
       "    </tr>\n",
       "  </tbody>\n",
       "</table>\n",
       "</div>"
      ],
      "text/plain": [
       "   Recnum     Cardnum        Date       Merchnum        Merch description  \\\n",
       "0       1  5142190439  2010-01-01  5509006296254   FEDEX SHP 12/23/09 AB#   \n",
       "1       2  5142183973  2010-01-01    61003026333  SERVICE MERCHANDISE #81   \n",
       "2       3  5142131721  2010-01-01  4503082993600        OFFICE DEPOT #191   \n",
       "3       4  5142148452  2010-01-01  5509006296254   FEDEX SHP 12/28/09 AB#   \n",
       "4       5  5142190439  2010-01-01  5509006296254   FEDEX SHP 12/23/09 AB#   \n",
       "\n",
       "  Merch state Merch zip Transtype  Amount  Fraud     Dow  Dow_Risk  \n",
       "0          TN   38118.0         P    3.62      0  Friday  0.022419  \n",
       "1          MA    1803.0         P   31.42      0  Friday  0.022419  \n",
       "2          MD   20706.0         P  178.49      0  Friday  0.022419  \n",
       "3          TN   38118.0         P    3.62      0  Friday  0.022419  \n",
       "4          TN   38118.0         P    3.62      0  Friday  0.022419  "
      ]
     },
     "execution_count": 4,
     "metadata": {},
     "output_type": "execute_result"
    }
   ],
   "source": [
    "## note the index and recnum are not consecutive since we exclude non-P transaction types\n",
    "\n",
    "df.head()"
   ]
  },
  {
   "cell_type": "code",
   "execution_count": 5,
   "metadata": {
    "scrolled": true
   },
   "outputs": [
    {
     "data": {
      "text/plain": [
       "Recnum                 int64\n",
       "Cardnum                int64\n",
       "Date                  object\n",
       "Merchnum              object\n",
       "Merch description     object\n",
       "Merch state           object\n",
       "Merch zip             object\n",
       "Transtype             object\n",
       "Amount               float64\n",
       "Fraud                  int64\n",
       "Dow                   object\n",
       "Dow_Risk             float64\n",
       "dtype: object"
      ]
     },
     "execution_count": 5,
     "metadata": {},
     "output_type": "execute_result"
    }
   ],
   "source": [
    "df.dtypes"
   ]
  },
  {
   "cell_type": "markdown",
   "metadata": {},
   "source": [
    "### I. Data types"
   ]
  },
  {
   "cell_type": "code",
   "execution_count": 6,
   "metadata": {},
   "outputs": [],
   "source": [
    "df.Cardnum = df.Cardnum.astype(str)"
   ]
  },
  {
   "cell_type": "code",
   "execution_count": 7,
   "metadata": {},
   "outputs": [],
   "source": [
    "### add leading 0 to zips\n",
    "### note: there are some zips that are state abbrv. as we imputed them ealier, so pandas read the column as str\n",
    "\n",
    "def leading_0(x):\n",
    "    \n",
    "    if '.0' in x:\n",
    "        x = x[:-2]\n",
    "        if len(x) == 5:\n",
    "            return x\n",
    "        else: \n",
    "            return '0'*(5-len(x)) + x\n",
    "    else:\n",
    "        return '0'*(5-len(x)) + x\n",
    "\n",
    "df['Merch zip'] = df['Merch zip'].apply(leading_0)"
   ]
  },
  {
   "cell_type": "code",
   "execution_count": 8,
   "metadata": {},
   "outputs": [],
   "source": [
    "### delete white spaces in merch description\n",
    "\n",
    "df['Merch description'] = df['Merch description'].str.replace(r'\\s', '')"
   ]
  },
  {
   "cell_type": "markdown",
   "metadata": {},
   "source": [
    "### II. Creat entities"
   ]
  },
  {
   "cell_type": "code",
   "execution_count": 9,
   "metadata": {},
   "outputs": [],
   "source": [
    "df['card_merch'] = df['Cardnum'] + df['Merchnum']\n",
    "df['card_zip'] = df['Cardnum'] + df['Merch zip']\n",
    "df['card_state'] = df['Cardnum'] + df['Merch state']\n",
    "df['merch_zip'] = df['Merchnum'] + df['Merch zip']\n",
    "df['merch_state'] = df['Merchnum'] + df['Merch state']"
   ]
  },
  {
   "cell_type": "code",
   "execution_count": 10,
   "metadata": {},
   "outputs": [
    {
     "data": {
      "text/plain": [
       "Index(['Recnum', 'Cardnum', 'Date', 'Merchnum', 'Merch description',\n",
       "       'Merch state', 'Merch zip', 'Transtype', 'Amount', 'Fraud', 'Dow',\n",
       "       'Dow_Risk', 'card_merch', 'card_zip', 'card_state', 'merch_zip',\n",
       "       'merch_state'],\n",
       "      dtype='object')"
      ]
     },
     "execution_count": 10,
     "metadata": {},
     "output_type": "execute_result"
    }
   ],
   "source": [
    "df.columns"
   ]
  },
  {
   "cell_type": "code",
   "execution_count": 11,
   "metadata": {},
   "outputs": [],
   "source": [
    "entities = list(df.iloc[:, np.r_[1, 3, 12:17]].columns)"
   ]
  },
  {
   "cell_type": "code",
   "execution_count": 12,
   "metadata": {},
   "outputs": [
    {
     "data": {
      "text/plain": [
       "['Cardnum',\n",
       " 'Merchnum',\n",
       " 'card_merch',\n",
       " 'card_zip',\n",
       " 'card_state',\n",
       " 'merch_zip',\n",
       " 'merch_state']"
      ]
     },
     "execution_count": 12,
     "metadata": {},
     "output_type": "execute_result"
    }
   ],
   "source": [
    "entities"
   ]
  },
  {
   "cell_type": "markdown",
   "metadata": {},
   "source": [
    "### III. Variables"
   ]
  },
  {
   "cell_type": "code",
   "execution_count": 13,
   "metadata": {},
   "outputs": [],
   "source": [
    "df.Date = pd.to_datetime(df.Date)"
   ]
  },
  {
   "cell_type": "code",
   "execution_count": 14,
   "metadata": {},
   "outputs": [],
   "source": [
    "df1 = df.copy()\n",
    "final = df.copy()\n",
    "df1['check_date'] = df1.Date\n",
    "df1['check_record'] = df1.Recnum"
   ]
  },
  {
   "cell_type": "markdown",
   "metadata": {},
   "source": [
    "#### Day-since, frequency, and amount"
   ]
  },
  {
   "cell_type": "code",
   "execution_count": 15,
   "metadata": {},
   "outputs": [
    {
     "name": "stdout",
     "output_type": "stream",
     "text": [
      "\n",
      "\n",
      "Cardnum_day_since ---> Done\n",
      "Cardnum_count_0 ---> Done\n",
      "Cardnum amount variables over past 0 ---> Done\n",
      "Cardnum_count_1 ---> Done\n",
      "Cardnum amount variables over past 1 ---> Done\n",
      "Cardnum_count_3 ---> Done\n",
      "Cardnum amount variables over past 3 ---> Done\n",
      "Cardnum_count_7 ---> Done\n",
      "Cardnum amount variables over past 7 ---> Done\n",
      "Cardnum_count_14 ---> Done\n",
      "Cardnum amount variables over past 14 ---> Done\n",
      "Cardnum_count_30 ---> Done\n",
      "Cardnum amount variables over past 30 ---> Done\n",
      "Run time for the last entity ----------------- 7.041482131000066s\n",
      "\n",
      "Merchnum_day_since ---> Done\n",
      "Merchnum_count_0 ---> Done\n",
      "Merchnum amount variables over past 0 ---> Done\n",
      "Merchnum_count_1 ---> Done\n",
      "Merchnum amount variables over past 1 ---> Done\n",
      "Merchnum_count_3 ---> Done\n",
      "Merchnum amount variables over past 3 ---> Done\n",
      "Merchnum_count_7 ---> Done\n",
      "Merchnum amount variables over past 7 ---> Done\n",
      "Merchnum_count_14 ---> Done\n",
      "Merchnum amount variables over past 14 ---> Done\n",
      "Merchnum_count_30 ---> Done\n",
      "Merchnum amount variables over past 30 ---> Done\n",
      "Run time for the last entity ----------------- 44.131002397999964s\n",
      "\n",
      "card_merch_day_since ---> Done\n",
      "card_merch_count_0 ---> Done\n",
      "card_merch amount variables over past 0 ---> Done\n",
      "card_merch_count_1 ---> Done\n",
      "card_merch amount variables over past 1 ---> Done\n",
      "card_merch_count_3 ---> Done\n",
      "card_merch amount variables over past 3 ---> Done\n",
      "card_merch_count_7 ---> Done\n",
      "card_merch amount variables over past 7 ---> Done\n",
      "card_merch_count_14 ---> Done\n",
      "card_merch amount variables over past 14 ---> Done\n",
      "card_merch_count_30 ---> Done\n",
      "card_merch amount variables over past 30 ---> Done\n",
      "Run time for the last entity ----------------- 2.4901796119997925s\n",
      "\n",
      "card_zip_day_since ---> Done\n",
      "card_zip_count_0 ---> Done\n",
      "card_zip amount variables over past 0 ---> Done\n",
      "card_zip_count_1 ---> Done\n",
      "card_zip amount variables over past 1 ---> Done\n",
      "card_zip_count_3 ---> Done\n",
      "card_zip amount variables over past 3 ---> Done\n",
      "card_zip_count_7 ---> Done\n",
      "card_zip amount variables over past 7 ---> Done\n",
      "card_zip_count_14 ---> Done\n",
      "card_zip amount variables over past 14 ---> Done\n",
      "card_zip_count_30 ---> Done\n",
      "card_zip amount variables over past 30 ---> Done\n",
      "Run time for the last entity ----------------- 2.3674969059998148s\n",
      "\n",
      "card_state_day_since ---> Done\n",
      "card_state_count_0 ---> Done\n",
      "card_state amount variables over past 0 ---> Done\n",
      "card_state_count_1 ---> Done\n",
      "card_state amount variables over past 1 ---> Done\n",
      "card_state_count_3 ---> Done\n",
      "card_state amount variables over past 3 ---> Done\n",
      "card_state_count_7 ---> Done\n",
      "card_state amount variables over past 7 ---> Done\n",
      "card_state_count_14 ---> Done\n",
      "card_state amount variables over past 14 ---> Done\n",
      "card_state_count_30 ---> Done\n",
      "card_state amount variables over past 30 ---> Done\n",
      "Run time for the last entity ----------------- 2.7161085180000555s\n",
      "\n",
      "merch_zip_day_since ---> Done\n",
      "merch_zip_count_0 ---> Done\n",
      "merch_zip amount variables over past 0 ---> Done\n",
      "merch_zip_count_1 ---> Done\n",
      "merch_zip amount variables over past 1 ---> Done\n",
      "merch_zip_count_3 ---> Done\n",
      "merch_zip amount variables over past 3 ---> Done\n",
      "merch_zip_count_7 ---> Done\n",
      "merch_zip amount variables over past 7 ---> Done\n",
      "merch_zip_count_14 ---> Done\n",
      "merch_zip amount variables over past 14 ---> Done\n",
      "merch_zip_count_30 ---> Done\n",
      "merch_zip amount variables over past 30 ---> Done\n",
      "Run time for the last entity ----------------- 37.29171323699984s\n",
      "\n",
      "merch_state_day_since ---> Done\n",
      "merch_state_count_0 ---> Done\n",
      "merch_state amount variables over past 0 ---> Done\n",
      "merch_state_count_1 ---> Done\n",
      "merch_state amount variables over past 1 ---> Done\n",
      "merch_state_count_3 ---> Done\n",
      "merch_state amount variables over past 3 ---> Done\n",
      "merch_state_count_7 ---> Done\n",
      "merch_state amount variables over past 7 ---> Done\n",
      "merch_state_count_14 ---> Done\n",
      "merch_state amount variables over past 14 ---> Done\n",
      "merch_state_count_30 ---> Done\n",
      "merch_state amount variables over past 30 ---> Done\n",
      "Total run time: 2.2307437801833276mins\n"
     ]
    }
   ],
   "source": [
    "start = timeit.default_timer()\n",
    "\n",
    "for entity in entities:\n",
    "    \n",
    "    try: print('Run time for the last entity ----------------- {}s'.format(timeit.default_timer() - st))\n",
    "    except: print('')\n",
    "    st = timeit.default_timer()\n",
    "    \n",
    "    ## Day-since variables:\n",
    "    \n",
    "    df_l = df1[['Recnum', 'Date', entity]]\n",
    "    df_r = df1[['check_record', 'check_date', entity, 'Amount']]\n",
    "    \n",
    "    temp = pd.merge(df_l, df_r, left_on = entity, right_on = entity)\n",
    "    \n",
    "    temp1 = temp[temp.Recnum > temp.check_record][['Recnum','Date','check_date']]\\\n",
    "                                                .groupby('Recnum')[['Date', 'check_date']].last()\n",
    "    mapper = (temp1.Date - temp1.check_date).dt.days\n",
    "    final[entity + '_day_since'] = final.Recnum.map(mapper)\n",
    "    final[entity + '_day_since'].fillna((final.Date - pd.to_datetime('2010-01-01')).dt.days, inplace = True)\n",
    "\n",
    "    print('\\n' + entity + '_day_since ---> Done')\n",
    "    \n",
    "    ## Frequency & Amount variables:\n",
    "    \n",
    "    for time in [0,1,3,7,14,30]:\n",
    "        \n",
    "        temp2 = temp[(temp.check_date >= (temp.Date - dt.timedelta(time))) &\\\n",
    "                       (temp.Recnum >= temp.check_record)][['Recnum', entity, 'Amount']]\n",
    "        \n",
    "        col_name = entity + '_count_' + str(time)    \n",
    "        mapper2 = temp2.groupby('Recnum')[entity].count()      \n",
    "        final[col_name] = final.Recnum.map(mapper2)\n",
    "        \n",
    "        print(col_name + ' ---> Done')\n",
    "        \n",
    "        final[entity + '_avg_' + str(time)] = final.Recnum.map(temp2.groupby('Recnum')['Amount'].mean())\n",
    "        final[entity + '_max_' + str(time)] = final.Recnum.map(temp2.groupby('Recnum')['Amount'].max())\n",
    "        final[entity + '_med_' + str(time)] = final.Recnum.map(temp2.groupby('Recnum')['Amount'].median())\n",
    "        final[entity + '_total_' + str(time)] = final.Recnum.map(temp2.groupby('Recnum')['Amount'].sum())\n",
    "        final[entity + '_actual/avg_' + str(time)] = final['Amount'] / final[entity + '_avg_' + str(time)]\n",
    "        final[entity + '_actual/max_' + str(time)] = final['Amount'] / final[entity + '_max_' + str(time)]\n",
    "        final[entity + '_actual/med_' + str(time)] = final['Amount'] / final[entity + '_med_' + str(time)]\n",
    "        final[entity + '_actual/toal_' + str(time)] = final['Amount'] / final[entity + '_total_' + str(time)]\n",
    "        \n",
    "        print(entity + ' amount variables over past ' + str(time) + ' ---> Done')\n",
    "\n",
    "print('Total run time: {}mins'.format((timeit.default_timer() - start)/60))"
   ]
  },
  {
   "cell_type": "markdown",
   "metadata": {},
   "source": [
    "#### Velocity"
   ]
  },
  {
   "cell_type": "code",
   "execution_count": 16,
   "metadata": {},
   "outputs": [
    {
     "name": "stdout",
     "output_type": "stream",
     "text": [
      "Total run time: 0.48102699499986556s\n"
     ]
    }
   ],
   "source": [
    "start = timeit.default_timer()\n",
    "\n",
    "for ent in entities:\n",
    "    for d in ['0', '1']:\n",
    "        for dd in ['7', '14', '30']:\n",
    "            final[ent + '_count_' + d + '_by_' + dd] =\\\n",
    "            final[ent + '_count_' + d]*1.0/(final[ent + '_count_' + dd]*1.0/float(dd))\n",
    "\n",
    "print('Total run time: {}s'.format(timeit.default_timer() - start))"
   ]
  },
  {
   "cell_type": "markdown",
   "metadata": {},
   "source": [
    "### IV. Keep essential features"
   ]
  },
  {
   "cell_type": "code",
   "execution_count": 17,
   "metadata": {},
   "outputs": [],
   "source": [
    "final.set_index('Recnum', inplace = True)"
   ]
  },
  {
   "cell_type": "code",
   "execution_count": 18,
   "metadata": {},
   "outputs": [],
   "source": [
    "final = final.iloc[:, np.r_[8, 10, 16:len(final.columns)]]"
   ]
  },
  {
   "cell_type": "code",
   "execution_count": 19,
   "metadata": {},
   "outputs": [
    {
     "data": {
      "text/html": [
       "<div>\n",
       "<style scoped>\n",
       "    .dataframe tbody tr th:only-of-type {\n",
       "        vertical-align: middle;\n",
       "    }\n",
       "\n",
       "    .dataframe tbody tr th {\n",
       "        vertical-align: top;\n",
       "    }\n",
       "\n",
       "    .dataframe thead th {\n",
       "        text-align: right;\n",
       "    }\n",
       "</style>\n",
       "<table border=\"1\" class=\"dataframe\">\n",
       "  <thead>\n",
       "    <tr style=\"text-align: right;\">\n",
       "      <th></th>\n",
       "      <th>Fraud</th>\n",
       "      <th>Dow_Risk</th>\n",
       "      <th>Cardnum_day_since</th>\n",
       "      <th>Cardnum_count_0</th>\n",
       "      <th>Cardnum_avg_0</th>\n",
       "      <th>Cardnum_max_0</th>\n",
       "      <th>Cardnum_med_0</th>\n",
       "      <th>Cardnum_total_0</th>\n",
       "      <th>Cardnum_actual/avg_0</th>\n",
       "      <th>Cardnum_actual/max_0</th>\n",
       "      <th>...</th>\n",
       "      <th>merch_zip_count_0_by_30</th>\n",
       "      <th>merch_zip_count_1_by_7</th>\n",
       "      <th>merch_zip_count_1_by_14</th>\n",
       "      <th>merch_zip_count_1_by_30</th>\n",
       "      <th>merch_state_count_0_by_7</th>\n",
       "      <th>merch_state_count_0_by_14</th>\n",
       "      <th>merch_state_count_0_by_30</th>\n",
       "      <th>merch_state_count_1_by_7</th>\n",
       "      <th>merch_state_count_1_by_14</th>\n",
       "      <th>merch_state_count_1_by_30</th>\n",
       "    </tr>\n",
       "    <tr>\n",
       "      <th>Recnum</th>\n",
       "      <th></th>\n",
       "      <th></th>\n",
       "      <th></th>\n",
       "      <th></th>\n",
       "      <th></th>\n",
       "      <th></th>\n",
       "      <th></th>\n",
       "      <th></th>\n",
       "      <th></th>\n",
       "      <th></th>\n",
       "      <th></th>\n",
       "      <th></th>\n",
       "      <th></th>\n",
       "      <th></th>\n",
       "      <th></th>\n",
       "      <th></th>\n",
       "      <th></th>\n",
       "      <th></th>\n",
       "      <th></th>\n",
       "      <th></th>\n",
       "      <th></th>\n",
       "    </tr>\n",
       "  </thead>\n",
       "  <tbody>\n",
       "    <tr>\n",
       "      <td>1</td>\n",
       "      <td>0</td>\n",
       "      <td>0.022419</td>\n",
       "      <td>0.0</td>\n",
       "      <td>1</td>\n",
       "      <td>3.62</td>\n",
       "      <td>3.62</td>\n",
       "      <td>3.62</td>\n",
       "      <td>3.62</td>\n",
       "      <td>1.0</td>\n",
       "      <td>1.0</td>\n",
       "      <td>...</td>\n",
       "      <td>30.0</td>\n",
       "      <td>7.0</td>\n",
       "      <td>14.0</td>\n",
       "      <td>30.0</td>\n",
       "      <td>7.0</td>\n",
       "      <td>14.0</td>\n",
       "      <td>30.0</td>\n",
       "      <td>7.0</td>\n",
       "      <td>14.0</td>\n",
       "      <td>30.0</td>\n",
       "    </tr>\n",
       "    <tr>\n",
       "      <td>2</td>\n",
       "      <td>0</td>\n",
       "      <td>0.022419</td>\n",
       "      <td>0.0</td>\n",
       "      <td>1</td>\n",
       "      <td>31.42</td>\n",
       "      <td>31.42</td>\n",
       "      <td>31.42</td>\n",
       "      <td>31.42</td>\n",
       "      <td>1.0</td>\n",
       "      <td>1.0</td>\n",
       "      <td>...</td>\n",
       "      <td>30.0</td>\n",
       "      <td>7.0</td>\n",
       "      <td>14.0</td>\n",
       "      <td>30.0</td>\n",
       "      <td>7.0</td>\n",
       "      <td>14.0</td>\n",
       "      <td>30.0</td>\n",
       "      <td>7.0</td>\n",
       "      <td>14.0</td>\n",
       "      <td>30.0</td>\n",
       "    </tr>\n",
       "    <tr>\n",
       "      <td>3</td>\n",
       "      <td>0</td>\n",
       "      <td>0.022419</td>\n",
       "      <td>0.0</td>\n",
       "      <td>1</td>\n",
       "      <td>178.49</td>\n",
       "      <td>178.49</td>\n",
       "      <td>178.49</td>\n",
       "      <td>178.49</td>\n",
       "      <td>1.0</td>\n",
       "      <td>1.0</td>\n",
       "      <td>...</td>\n",
       "      <td>30.0</td>\n",
       "      <td>7.0</td>\n",
       "      <td>14.0</td>\n",
       "      <td>30.0</td>\n",
       "      <td>7.0</td>\n",
       "      <td>14.0</td>\n",
       "      <td>30.0</td>\n",
       "      <td>7.0</td>\n",
       "      <td>14.0</td>\n",
       "      <td>30.0</td>\n",
       "    </tr>\n",
       "    <tr>\n",
       "      <td>4</td>\n",
       "      <td>0</td>\n",
       "      <td>0.022419</td>\n",
       "      <td>0.0</td>\n",
       "      <td>1</td>\n",
       "      <td>3.62</td>\n",
       "      <td>3.62</td>\n",
       "      <td>3.62</td>\n",
       "      <td>3.62</td>\n",
       "      <td>1.0</td>\n",
       "      <td>1.0</td>\n",
       "      <td>...</td>\n",
       "      <td>30.0</td>\n",
       "      <td>7.0</td>\n",
       "      <td>14.0</td>\n",
       "      <td>30.0</td>\n",
       "      <td>7.0</td>\n",
       "      <td>14.0</td>\n",
       "      <td>30.0</td>\n",
       "      <td>7.0</td>\n",
       "      <td>14.0</td>\n",
       "      <td>30.0</td>\n",
       "    </tr>\n",
       "    <tr>\n",
       "      <td>5</td>\n",
       "      <td>0</td>\n",
       "      <td>0.022419</td>\n",
       "      <td>0.0</td>\n",
       "      <td>2</td>\n",
       "      <td>3.62</td>\n",
       "      <td>3.62</td>\n",
       "      <td>3.62</td>\n",
       "      <td>7.24</td>\n",
       "      <td>1.0</td>\n",
       "      <td>1.0</td>\n",
       "      <td>...</td>\n",
       "      <td>30.0</td>\n",
       "      <td>7.0</td>\n",
       "      <td>14.0</td>\n",
       "      <td>30.0</td>\n",
       "      <td>7.0</td>\n",
       "      <td>14.0</td>\n",
       "      <td>30.0</td>\n",
       "      <td>7.0</td>\n",
       "      <td>14.0</td>\n",
       "      <td>30.0</td>\n",
       "    </tr>\n",
       "  </tbody>\n",
       "</table>\n",
       "<p>5 rows × 429 columns</p>\n",
       "</div>"
      ],
      "text/plain": [
       "        Fraud  Dow_Risk  Cardnum_day_since  Cardnum_count_0  Cardnum_avg_0  \\\n",
       "Recnum                                                                       \n",
       "1           0  0.022419                0.0                1           3.62   \n",
       "2           0  0.022419                0.0                1          31.42   \n",
       "3           0  0.022419                0.0                1         178.49   \n",
       "4           0  0.022419                0.0                1           3.62   \n",
       "5           0  0.022419                0.0                2           3.62   \n",
       "\n",
       "        Cardnum_max_0  Cardnum_med_0  Cardnum_total_0  Cardnum_actual/avg_0  \\\n",
       "Recnum                                                                        \n",
       "1                3.62           3.62             3.62                   1.0   \n",
       "2               31.42          31.42            31.42                   1.0   \n",
       "3              178.49         178.49           178.49                   1.0   \n",
       "4                3.62           3.62             3.62                   1.0   \n",
       "5                3.62           3.62             7.24                   1.0   \n",
       "\n",
       "        Cardnum_actual/max_0  ...  merch_zip_count_0_by_30  \\\n",
       "Recnum                        ...                            \n",
       "1                        1.0  ...                     30.0   \n",
       "2                        1.0  ...                     30.0   \n",
       "3                        1.0  ...                     30.0   \n",
       "4                        1.0  ...                     30.0   \n",
       "5                        1.0  ...                     30.0   \n",
       "\n",
       "        merch_zip_count_1_by_7  merch_zip_count_1_by_14  \\\n",
       "Recnum                                                    \n",
       "1                          7.0                     14.0   \n",
       "2                          7.0                     14.0   \n",
       "3                          7.0                     14.0   \n",
       "4                          7.0                     14.0   \n",
       "5                          7.0                     14.0   \n",
       "\n",
       "        merch_zip_count_1_by_30  merch_state_count_0_by_7  \\\n",
       "Recnum                                                      \n",
       "1                          30.0                       7.0   \n",
       "2                          30.0                       7.0   \n",
       "3                          30.0                       7.0   \n",
       "4                          30.0                       7.0   \n",
       "5                          30.0                       7.0   \n",
       "\n",
       "        merch_state_count_0_by_14  merch_state_count_0_by_30  \\\n",
       "Recnum                                                         \n",
       "1                            14.0                       30.0   \n",
       "2                            14.0                       30.0   \n",
       "3                            14.0                       30.0   \n",
       "4                            14.0                       30.0   \n",
       "5                            14.0                       30.0   \n",
       "\n",
       "        merch_state_count_1_by_7  merch_state_count_1_by_14  \\\n",
       "Recnum                                                        \n",
       "1                            7.0                       14.0   \n",
       "2                            7.0                       14.0   \n",
       "3                            7.0                       14.0   \n",
       "4                            7.0                       14.0   \n",
       "5                            7.0                       14.0   \n",
       "\n",
       "        merch_state_count_1_by_30  \n",
       "Recnum                             \n",
       "1                            30.0  \n",
       "2                            30.0  \n",
       "3                            30.0  \n",
       "4                            30.0  \n",
       "5                            30.0  \n",
       "\n",
       "[5 rows x 429 columns]"
      ]
     },
     "execution_count": 19,
     "metadata": {},
     "output_type": "execute_result"
    }
   ],
   "source": [
    "final.head()"
   ]
  },
  {
   "cell_type": "code",
   "execution_count": 20,
   "metadata": {},
   "outputs": [
    {
     "data": {
      "text/plain": [
       "(96397, 429)"
      ]
     },
     "execution_count": 20,
     "metadata": {},
     "output_type": "execute_result"
    }
   ],
   "source": [
    "final.shape"
   ]
  },
  {
   "cell_type": "code",
   "execution_count": 21,
   "metadata": {},
   "outputs": [],
   "source": [
    "final.to_csv('with_variables.csv')"
   ]
  },
  {
   "cell_type": "code",
   "execution_count": 22,
   "metadata": {},
   "outputs": [
    {
     "name": "stdout",
     "output_type": "stream",
     "text": [
      "Duration:  0:02:50.407298\n"
     ]
    }
   ],
   "source": [
    "print('Duration: ', pd.datetime.now() - start_time)"
   ]
  }
 ],
 "metadata": {
  "kernelspec": {
   "display_name": "Python 3",
   "language": "python",
   "name": "python3"
  },
  "language_info": {
   "codemirror_mode": {
    "name": "ipython",
    "version": 3
   },
   "file_extension": ".py",
   "mimetype": "text/x-python",
   "name": "python",
   "nbconvert_exporter": "python",
   "pygments_lexer": "ipython3",
   "version": "3.7.4"
  }
 },
 "nbformat": 4,
 "nbformat_minor": 2
}
